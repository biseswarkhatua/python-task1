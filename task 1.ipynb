{
 "cells": [
  {
   "cell_type": "code",
   "execution_count": 3,
   "id": "534e5d9f-3c44-4d49-ac17-ee24b76adccd",
   "metadata": {},
   "outputs": [
    {
     "name": "stdout",
     "output_type": "stream",
     "text": [
      "updated list: [15, 22, 33, 44, 66, 77]\n"
     ]
    }
   ],
   "source": [
    "#creating a list \n",
    "my_list = [ 11,22,33,44,55,66]\n",
    "#adding an element to the list \n",
    "my_list.append (77)\n",
    "#removing an element from the list \n",
    "my_list.remove (55)\n",
    "#modifying an element\n",
    "my_list [0] = 15\n",
    "print (\"updated list:\",my_list)"
   ]
  },
  {
   "cell_type": "code",
   "execution_count": 5,
   "id": "22511ac1-4484-43ab-a776-77ad8790c8f8",
   "metadata": {},
   "outputs": [
    {
     "name": "stdout",
     "output_type": "stream",
     "text": [
      "updated Dictionary: {'name': 'khatua', 'age': 20, 'city': 'Bdk', 'gender': 'Male'}\n"
     ]
    }
   ],
   "source": [
    "#creating dictionary\n",
    "my_dict = {'name': 'khatua', 'age': 20, 'city': 'Blsr' }\n",
    "#adding\n",
    "my_dict[ 'gender' ] = 'Male'\n",
    "#removing \n",
    "my_dict[ 'age' ] \n",
    "#modifying\n",
    "my_dict[ 'city' ] = 'Bdk'\n",
    "print(\"updated Dictionary:\",my_dict)"
   ]
  },
  {
   "cell_type": "code",
   "execution_count": 6,
   "id": "28b25480-546e-4463-acb1-73f22fbd2b4c",
   "metadata": {},
   "outputs": [
    {
     "name": "stdout",
     "output_type": "stream",
     "text": [
      "updated set: {'thar', 'suzuki', 'bmw', 'fortuner', 'audi'}\n"
     ]
    }
   ],
   "source": [
    "#creating a set \n",
    "my_set = { 'lambo', 'suzuki', 'bmw', 'thar', 'toyota'}\n",
    "#adding \n",
    "my_set.add('audi')\n",
    "#removing\n",
    "my_set.remove('lambo')\n",
    "#modifying\n",
    "my_set.discard('toyota')\n",
    "my_set.add('fortuner')\n",
    "print(\"updated set:\",my_set)"
   ]
  },
  {
   "cell_type": "code",
   "execution_count": null,
   "id": "7637bb2f-1a03-4966-b797-8bbaf3343e0f",
   "metadata": {},
   "outputs": [],
   "source": []
  }
 ],
 "metadata": {
  "kernelspec": {
   "display_name": "Python 3 (ipykernel)",
   "language": "python",
   "name": "python3"
  },
  "language_info": {
   "codemirror_mode": {
    "name": "ipython",
    "version": 3
   },
   "file_extension": ".py",
   "mimetype": "text/x-python",
   "name": "python",
   "nbconvert_exporter": "python",
   "pygments_lexer": "ipython3",
   "version": "3.12.3"
  }
 },
 "nbformat": 4,
 "nbformat_minor": 5
}
